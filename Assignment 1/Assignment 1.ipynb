{
 "cells": [
  {
   "cell_type": "code",
   "execution_count": 5,
   "id": "93057927",
   "metadata": {},
   "outputs": [
    {
     "name": "stdout",
     "output_type": "stream",
     "text": [
      "3\n",
      "enter first name:sai\n",
      "\n",
      "\n",
      "enter last name:sumanth\n",
      "\n",
      "\n",
      "enter first name:maraboina\n",
      "\n",
      "\n",
      "enter last name:sam\n",
      "\n",
      "\n",
      "enter first name:ravi\n",
      "\n",
      "\n",
      "enter last name:raghu\n",
      "\n",
      "\n",
      "['sai sumanth', 'maraboina sam', 'ravi raghu']\n"
     ]
    }
   ],
   "source": [
    "#Append 2 list in python\n",
    "def name(first_name,last_name):\n",
    "    full_name=[]\n",
    "    n=len(first_name)\n",
    "    if (len(first_name)==len(last_name)):        \n",
    "        for i in range(n):\n",
    "                full_name.append(first_name[i]+\" \"+last_name[i])\n",
    "    print(full_name)\n",
    "def main():\n",
    "    length=int(input())\n",
    "    first_name=list()\n",
    "    last_name=list()\n",
    "    for i in range(length):\n",
    "        first_name.append(input(\"enter first name:\"))\n",
    "        print(\"\\n\")\n",
    "        last_name.append(input(\"enter last name:\"))\n",
    "        print(\"\\n\")\n",
    "    name(first_name,last_name)\n",
    "\n",
    "if __name__ == \"__main__\":\n",
    "    main()"
   ]
  },
  {
   "cell_type": "code",
   "execution_count": null,
   "id": "dfb082ab",
   "metadata": {},
   "outputs": [],
   "source": []
  }
 ],
 "metadata": {
  "kernelspec": {
   "display_name": "Python 3 (ipykernel)",
   "language": "python",
   "name": "python3"
  },
  "language_info": {
   "codemirror_mode": {
    "name": "ipython",
    "version": 3
   },
   "file_extension": ".py",
   "mimetype": "text/x-python",
   "name": "python",
   "nbconvert_exporter": "python",
   "pygments_lexer": "ipython3",
   "version": "3.9.7"
  }
 },
 "nbformat": 4,
 "nbformat_minor": 5
}
